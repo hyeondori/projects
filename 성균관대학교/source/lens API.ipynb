{
 "cells": [
  {
   "cell_type": "markdown",
   "id": "119c7705",
   "metadata": {},
   "source": [
    "- Post 작성: requests.post()\n",
    "- Post 획득: requests.get()\n",
    "- Post 갱신: requests.path()\n",
    "- Post 삭제: requests.delete()\n",
    "- Tag 팔로우: requests.put()"
   ]
  },
  {
   "cell_type": "code",
   "execution_count": 1,
   "id": "fa94482d",
   "metadata": {
    "scrolled": true
   },
   "outputs": [
    {
     "ename": "NameError",
     "evalue": "name 'requests' is not defined",
     "output_type": "error",
     "traceback": [
      "\u001b[1;31m---------------------------------------------------------------------------\u001b[0m",
      "\u001b[1;31mNameError\u001b[0m                                 Traceback (most recent call last)",
      "Input \u001b[1;32mIn [1]\u001b[0m, in \u001b[0;36m<cell line: 1>\u001b[1;34m()\u001b[0m\n\u001b[1;32m----> 1\u001b[0m \u001b[43mrequests\u001b[49m\u001b[38;5;241m.\u001b[39mget(\u001b[38;5;124m\"\u001b[39m\u001b[38;5;124mhttps://naver.com\u001b[39m\u001b[38;5;124m\"\u001b[39m)\n",
      "\u001b[1;31mNameError\u001b[0m: name 'requests' is not defined"
     ]
    }
   ],
   "source": [
    "requests.get(\"https://naver.com\")"
   ]
  },
  {
   "cell_type": "code",
   "execution_count": null,
   "id": "7c7c97b8",
   "metadata": {},
   "outputs": [],
   "source": [
    " \"include\": ['lens_id','title','authors','author_count','year_published','fields_of_sutdy','keywords','references_count']"
   ]
  },
  {
   "cell_type": "code",
   "execution_count": 3,
   "id": "e000ff0b",
   "metadata": {
    "scrolled": true
   },
   "outputs": [
    {
     "name": "stdout",
     "output_type": "stream",
     "text": [
      "401\n"
     ]
    },
    {
     "data": {
      "text/plain": [
       "{'reference': 'unauthorised',\n",
       " 'message': \"You're not authorized for this resource. You need to have an active access plan\",\n",
       " 'code': 401}"
      ]
     },
     "execution_count": 3,
     "metadata": {},
     "output_type": "execute_result"
    }
   ],
   "source": [
    "# filtering 후 전체 json 파일 import \n",
    "\n",
    "import requests\n",
    "import json\n",
    "\n",
    "url = 'https://api.lens.org/scholarly/search'\n",
    "keyword1 = \"AI\"\n",
    "study1 = \"Acceleration\"\n",
    "\n",
    "\n",
    "\n",
    "# query는 scholar request, include나 sort는 scholar response 참고\n",
    "\n",
    "data = '''{\n",
    "     \"query\": \"keyword: '''+keyword1+''' AND field_of_study: '''+study1+'''\",\n",
    "     \"include\": [\"title\",\"year_published\",\"fields_of_study\",\"keywords\",\"references\",\"references_count\",\"scholarly_citations_count\"],\n",
    "     \"size\": 500,\n",
    "     \"sort\": [{\"year_published\": \"desc\"}]\n",
    "}'''\n",
    "\n",
    "\n",
    "headers = {'Authorization': 'QSbOQ6wncMeFTsOm24dTZXo6uCgqAxB82ROHvEIsykbCT2p1VCZj', 'Content-Type': 'application/json'}\n",
    "response = requests.post(url, data=data, headers=headers)\n",
    "if response.status_code != requests.codes.ok:\n",
    "    print(response.status_code)\n",
    "\n",
    "    \n",
    "response_text = response.text\n",
    "response_text = json.loads(response_text)\n",
    "response_text"
   ]
  },
  {
   "cell_type": "code",
   "execution_count": 27,
   "id": "7442e822",
   "metadata": {
    "scrolled": false
   },
   "outputs": [
    {
     "data": {
      "text/html": [
       "<div>\n",
       "<style scoped>\n",
       "    .dataframe tbody tr th:only-of-type {\n",
       "        vertical-align: middle;\n",
       "    }\n",
       "\n",
       "    .dataframe tbody tr th {\n",
       "        vertical-align: top;\n",
       "    }\n",
       "\n",
       "    .dataframe thead th {\n",
       "        text-align: right;\n",
       "    }\n",
       "</style>\n",
       "<table border=\"1\" class=\"dataframe\">\n",
       "  <thead>\n",
       "    <tr style=\"text-align: right;\">\n",
       "      <th></th>\n",
       "      <th>publication_type</th>\n",
       "      <th>source.publisher</th>\n",
       "      <th>source.country</th>\n",
       "      <th>publication_supplementary_type</th>\n",
       "      <th>chemicals</th>\n",
       "    </tr>\n",
       "  </thead>\n",
       "  <tbody>\n",
       "    <tr>\n",
       "      <th>0</th>\n",
       "      <td>journal article</td>\n",
       "      <td>Springer Verlag</td>\n",
       "      <td>Germany</td>\n",
       "      <td>NaN</td>\n",
       "      <td>NaN</td>\n",
       "    </tr>\n",
       "    <tr>\n",
       "      <th>1</th>\n",
       "      <td>journal article</td>\n",
       "      <td>Multimed Inc.</td>\n",
       "      <td>Canada</td>\n",
       "      <td>NaN</td>\n",
       "      <td>NaN</td>\n",
       "    </tr>\n",
       "    <tr>\n",
       "      <th>2</th>\n",
       "      <td>journal article</td>\n",
       "      <td>Mosby Inc.</td>\n",
       "      <td>United States</td>\n",
       "      <td>NaN</td>\n",
       "      <td>NaN</td>\n",
       "    </tr>\n",
       "    <tr>\n",
       "      <th>3</th>\n",
       "      <td>journal article</td>\n",
       "      <td>Current Science, Inc.</td>\n",
       "      <td>United States</td>\n",
       "      <td>NaN</td>\n",
       "      <td>NaN</td>\n",
       "    </tr>\n",
       "    <tr>\n",
       "      <th>4</th>\n",
       "      <td>journal article</td>\n",
       "      <td>John Wiley and Sons Ltd</td>\n",
       "      <td>United Kingdom</td>\n",
       "      <td>[research support, n.i.h., extramural, researc...</td>\n",
       "      <td>[{'substance_name': 'Antineoplastic Agents, Ho...</td>\n",
       "    </tr>\n",
       "    <tr>\n",
       "      <th>5</th>\n",
       "      <td>journal article</td>\n",
       "      <td>Elsevier</td>\n",
       "      <td>Japan</td>\n",
       "      <td>[research support, non-u.s. gov't]</td>\n",
       "      <td>[{'substance_name': 'Bacterial Proteins', 'reg...</td>\n",
       "    </tr>\n",
       "    <tr>\n",
       "      <th>6</th>\n",
       "      <td>journal article</td>\n",
       "      <td>Mosby Inc.</td>\n",
       "      <td>United States</td>\n",
       "      <td>[evaluation study, research support, non-u.s. ...</td>\n",
       "      <td>[{'substance_name': 'Anti-Inflammatory Agents'...</td>\n",
       "    </tr>\n",
       "    <tr>\n",
       "      <th>7</th>\n",
       "      <td>journal article</td>\n",
       "      <td>Elsevier Ireland Ltd</td>\n",
       "      <td>Netherlands</td>\n",
       "      <td>[research support, non-u.s. gov't]</td>\n",
       "      <td>NaN</td>\n",
       "    </tr>\n",
       "    <tr>\n",
       "      <th>8</th>\n",
       "      <td>journal article</td>\n",
       "      <td>Elsevier Ireland Ltd</td>\n",
       "      <td>Netherlands</td>\n",
       "      <td>[randomized controlled trial, research support...</td>\n",
       "      <td>[{'substance_name': 'Antihypertensive Agents',...</td>\n",
       "    </tr>\n",
       "    <tr>\n",
       "      <th>9</th>\n",
       "      <td>journal article</td>\n",
       "      <td>W.B. Saunders Ltd</td>\n",
       "      <td>United Kingdom</td>\n",
       "      <td>[randomized controlled trial]</td>\n",
       "      <td>[{'substance_name': 'Antioxidants', 'registry_...</td>\n",
       "    </tr>\n",
       "  </tbody>\n",
       "</table>\n",
       "</div>"
      ],
      "text/plain": [
       "  publication_type         source.publisher  source.country  \\\n",
       "0  journal article          Springer Verlag         Germany   \n",
       "1  journal article            Multimed Inc.          Canada   \n",
       "2  journal article               Mosby Inc.   United States   \n",
       "3  journal article    Current Science, Inc.   United States   \n",
       "4  journal article  John Wiley and Sons Ltd  United Kingdom   \n",
       "5  journal article                 Elsevier           Japan   \n",
       "6  journal article               Mosby Inc.   United States   \n",
       "7  journal article     Elsevier Ireland Ltd     Netherlands   \n",
       "8  journal article     Elsevier Ireland Ltd     Netherlands   \n",
       "9  journal article        W.B. Saunders Ltd  United Kingdom   \n",
       "\n",
       "                      publication_supplementary_type  \\\n",
       "0                                                NaN   \n",
       "1                                                NaN   \n",
       "2                                                NaN   \n",
       "3                                                NaN   \n",
       "4  [research support, n.i.h., extramural, researc...   \n",
       "5                 [research support, non-u.s. gov't]   \n",
       "6  [evaluation study, research support, non-u.s. ...   \n",
       "7                 [research support, non-u.s. gov't]   \n",
       "8  [randomized controlled trial, research support...   \n",
       "9                      [randomized controlled trial]   \n",
       "\n",
       "                                           chemicals  \n",
       "0                                                NaN  \n",
       "1                                                NaN  \n",
       "2                                                NaN  \n",
       "3                                                NaN  \n",
       "4  [{'substance_name': 'Antineoplastic Agents, Ho...  \n",
       "5  [{'substance_name': 'Bacterial Proteins', 'reg...  \n",
       "6  [{'substance_name': 'Anti-Inflammatory Agents'...  \n",
       "7                                                NaN  \n",
       "8  [{'substance_name': 'Antihypertensive Agents',...  \n",
       "9  [{'substance_name': 'Antioxidants', 'registry_...  "
      ]
     },
     "execution_count": 27,
     "metadata": {},
     "output_type": "execute_result"
    }
   ],
   "source": [
    "# Dataframe 변환방법1\n",
    "\n",
    "from pandas import json_normalize\n",
    "\n",
    "# record_path: depth1을 꺼내옴\n",
    "# meta: 나머지 불러올 columns\n",
    "#df = json_normalize(response_text['data'],\n",
    "#                   record_path = 'authors',\n",
    "#                   meta = ['title','fields_of_study','keywords','references_count'])\n",
    "\n",
    "\n",
    "df = json_normalize(response_text['data'])\n",
    "#df1 = df.drop('references', axis = 1)\n",
    "df"
   ]
  },
  {
   "cell_type": "code",
   "execution_count": 355,
   "id": "794389e2",
   "metadata": {
    "scrolled": true
   },
   "outputs": [
    {
     "data": {
      "text/plain": [
       "'Artificial intelligence'"
      ]
     },
     "execution_count": 355,
     "metadata": {},
     "output_type": "execute_result"
    }
   ],
   "source": [
    "df1['fields_of_study'][1][2]"
   ]
  },
  {
   "cell_type": "code",
   "execution_count": 7,
   "id": "ea07a76e",
   "metadata": {},
   "outputs": [
    {
     "name": "stdout",
     "output_type": "stream",
     "text": [
      "<class 'pandas.core.frame.DataFrame'>\n",
      "RangeIndex: 10 entries, 0 to 9\n",
      "Data columns (total 33 columns):\n",
      " #   Column                          Non-Null Count  Dtype \n",
      "---  ------                          --------------  ----- \n",
      " 0   lens_id                         10 non-null     object\n",
      " 1   title                           10 non-null     object\n",
      " 2   publication_type                10 non-null     object\n",
      " 3   year_published                  10 non-null     int64 \n",
      " 4   date_published                  10 non-null     object\n",
      " 5   date_published_parts            10 non-null     object\n",
      " 6   created                         10 non-null     object\n",
      " 7   external_ids                    10 non-null     object\n",
      " 8   authors                         10 non-null     object\n",
      " 9   fields_of_study                 10 non-null     object\n",
      " 10  keywords                        10 non-null     object\n",
      " 11  publication_supplementary_type  1 non-null      object\n",
      " 12  volume                          9 non-null      object\n",
      " 13  issue                           6 non-null      object\n",
      " 14  languages                       10 non-null     object\n",
      " 15  mesh_terms                      4 non-null      object\n",
      " 16  chemicals                       1 non-null      object\n",
      " 17  abstract                        10 non-null     object\n",
      " 18  references_count                10 non-null     int64 \n",
      " 19  start_page                      9 non-null      object\n",
      " 20  author_count                    10 non-null     int64 \n",
      " 21  is_open_access                  9 non-null      object\n",
      " 22  open_access.license             6 non-null      object\n",
      " 23  open_access.colour              9 non-null      object\n",
      " 24  source.title                    10 non-null     object\n",
      " 25  source.type                     7 non-null      object\n",
      " 26  source.publisher                10 non-null     object\n",
      " 27  source.issn                     10 non-null     object\n",
      " 28  source.country                  10 non-null     object\n",
      " 29  source.asjc_codes               7 non-null      object\n",
      " 30  source.asjc_subjects            8 non-null      object\n",
      " 31  funding                         6 non-null      object\n",
      " 32  end_page                        3 non-null      object\n",
      "dtypes: int64(3), object(30)\n",
      "memory usage: 2.7+ KB\n"
     ]
    }
   ],
   "source": [
    "df1.info()"
   ]
  },
  {
   "cell_type": "code",
   "execution_count": 2,
   "id": "1c694b93",
   "metadata": {},
   "outputs": [
    {
     "name": "stdout",
     "output_type": "stream",
     "text": [
      "401\n"
     ]
    },
    {
     "ename": "KeyError",
     "evalue": "'data'",
     "output_type": "error",
     "traceback": [
      "\u001b[1;31m---------------------------------------------------------------------------\u001b[0m",
      "\u001b[1;31mKeyError\u001b[0m                                  Traceback (most recent call last)",
      "Input \u001b[1;32mIn [2]\u001b[0m, in \u001b[0;36m<cell line: 31>\u001b[1;34m()\u001b[0m\n\u001b[0;32m     26\u001b[0m response_text \u001b[38;5;241m=\u001b[39m json\u001b[38;5;241m.\u001b[39mloads(response_text)\n\u001b[0;32m     29\u001b[0m \u001b[38;5;66;03m# Dataframe 변환방법\u001b[39;00m\n\u001b[1;32m---> 31\u001b[0m df \u001b[38;5;241m=\u001b[39m json_normalize(\u001b[43mresponse_text\u001b[49m\u001b[43m[\u001b[49m\u001b[38;5;124;43m'\u001b[39;49m\u001b[38;5;124;43mdata\u001b[39;49m\u001b[38;5;124;43m'\u001b[39;49m\u001b[43m]\u001b[49m)\n\u001b[0;32m     32\u001b[0m df1 \u001b[38;5;241m=\u001b[39m df\u001b[38;5;241m.\u001b[39mdrop(\u001b[38;5;124m'\u001b[39m\u001b[38;5;124mreferences\u001b[39m\u001b[38;5;124m'\u001b[39m, axis \u001b[38;5;241m=\u001b[39m \u001b[38;5;241m1\u001b[39m)\n\u001b[0;32m     33\u001b[0m df1\n",
      "\u001b[1;31mKeyError\u001b[0m: 'data'"
     ]
    }
   ],
   "source": [
    "# filtering 후 전체 json 파일 import \n",
    "from pandas import json_normalize\n",
    "import requests\n",
    "import json\n",
    "\n",
    "url = 'https://api.lens.org/scholarly/search'\n",
    "keyword1 = \"AI\"\n",
    "study1 = \"Acceleration\"\n",
    "\n",
    "# query는 scholar request, include나 sort는 scholar response 참고\n",
    "\n",
    "data = '''{\n",
    "     \"query\": \"keyword: '''+keyword1+''' AND field_of_study: '''+study1+'''\",\n",
    "     \"include\": [\"title\",\"year_published\",\"fields_of_study\",\"keywords\",\"references\",\"references_count\",\"scholarly_citations_count\"],\n",
    "     \"size\": 500,\n",
    "     \"sort\": [{\"year_published\": \"desc\"}]\n",
    "}'''\n",
    "\n",
    "headers = {'Authorization': 'QSbOQ6wncMeFTsOm24dTZXo6uCgqAxB82ROHvEIsykbCT2p1VCZj', 'Content-Type': 'application/json'}\n",
    "response = requests.post(url, data=data, headers=headers)\n",
    "if response.status_code != requests.codes.ok:\n",
    "    print(response.status_code)\n",
    "\n",
    "    \n",
    "response_text = response.text\n",
    "response_text = json.loads(response_text)\n",
    "\n",
    "\n",
    "# Dataframe 변환방법\n",
    "\n",
    "df = json_normalize(response_text['data'])\n",
    "df1 = df.drop('references', axis = 1)\n",
    "df1"
   ]
  },
  {
   "cell_type": "code",
   "execution_count": 28,
   "id": "768fd4ff",
   "metadata": {},
   "outputs": [
    {
     "name": "stdout",
     "output_type": "stream",
     "text": [
      "Collecting driverlessai\n",
      "  Downloading driverlessai-1.10.3.1-py3-none-any.whl (2.3 MB)\n",
      "     ---------------------------------------- 2.3/2.3 MB 36.8 MB/s eta 0:00:00\n",
      "Requirement already satisfied: requests in c:\\users\\gky20\\anaconda3\\envs\\aithe\\lib\\site-packages (from driverlessai) (2.28.1)\n",
      "Collecting toml\n",
      "  Downloading toml-0.10.2-py2.py3-none-any.whl (16 kB)\n",
      "Requirement already satisfied: tabulate in c:\\users\\gky20\\anaconda3\\envs\\aithe\\lib\\site-packages (from driverlessai) (0.8.10)\n",
      "Requirement already satisfied: tornado in c:\\users\\gky20\\anaconda3\\envs\\aithe\\lib\\site-packages (from driverlessai) (6.2)\n",
      "Requirement already satisfied: charset-normalizer<3,>=2 in c:\\users\\gky20\\anaconda3\\envs\\aithe\\lib\\site-packages (from requests->driverlessai) (2.1.0)\n",
      "Requirement already satisfied: urllib3<1.27,>=1.21.1 in c:\\users\\gky20\\anaconda3\\envs\\aithe\\lib\\site-packages (from requests->driverlessai) (1.26.11)\n",
      "Requirement already satisfied: certifi>=2017.4.17 in c:\\users\\gky20\\anaconda3\\envs\\aithe\\lib\\site-packages (from requests->driverlessai) (2022.6.15)\n",
      "Requirement already satisfied: idna<4,>=2.5 in c:\\users\\gky20\\anaconda3\\envs\\aithe\\lib\\site-packages (from requests->driverlessai) (3.3)\n",
      "Installing collected packages: toml, driverlessai\n",
      "Successfully installed driverlessai-1.10.3.1 toml-0.10.2\n"
     ]
    }
   ],
   "source": [
    "!pip install driverlessai"
   ]
  },
  {
   "cell_type": "code",
   "execution_count": 1,
   "id": "3640d5ba",
   "metadata": {},
   "outputs": [
    {
     "ename": "ServerVersionExtractionFailed",
     "evalue": "Unable to extract server version. Please make sure the address is correct.",
     "output_type": "error",
     "traceback": [
      "\u001b[1;31m---------------------------------------------------------------------------\u001b[0m",
      "\u001b[1;31mServerVersionExtractionFailed\u001b[0m             Traceback (most recent call last)",
      "Input \u001b[1;32mIn [1]\u001b[0m, in \u001b[0;36m<cell line: 7>\u001b[1;34m()\u001b[0m\n\u001b[0;32m      5\u001b[0m username \u001b[38;5;241m=\u001b[39m \u001b[38;5;124m'\u001b[39m\u001b[38;5;124mgky1208@aithenutrigene.com\u001b[39m\u001b[38;5;124m'\u001b[39m\n\u001b[0;32m      6\u001b[0m password \u001b[38;5;241m=\u001b[39m \u001b[38;5;124m'\u001b[39m\u001b[38;5;124mgq3817pq1295!\u001b[39m\u001b[38;5;124m'\u001b[39m\n\u001b[1;32m----> 7\u001b[0m dai \u001b[38;5;241m=\u001b[39m \u001b[43mdriverlessai\u001b[49m\u001b[38;5;241;43m.\u001b[39;49m\u001b[43mClient\u001b[49m\u001b[43m(\u001b[49m\u001b[43maddress\u001b[49m\u001b[43m \u001b[49m\u001b[38;5;241;43m=\u001b[39;49m\u001b[43m \u001b[49m\u001b[43maddress\u001b[49m\u001b[43m,\u001b[49m\u001b[43m \u001b[49m\u001b[43musername\u001b[49m\u001b[43m \u001b[49m\u001b[38;5;241;43m=\u001b[39;49m\u001b[43m \u001b[49m\u001b[43musername\u001b[49m\u001b[43m,\u001b[49m\u001b[43m \u001b[49m\u001b[43mpassword\u001b[49m\u001b[43m \u001b[49m\u001b[38;5;241;43m=\u001b[39;49m\u001b[43m \u001b[49m\u001b[43mpassword\u001b[49m\u001b[43m)\u001b[49m\n",
      "File \u001b[1;32m~\\Anaconda3\\envs\\aithe\\lib\\site-packages\\driverlessai\\_core.py:162\u001b[0m, in \u001b[0;36mClient.__init__\u001b[1;34m(self, address, username, password, token_provider, verify, backend_version_override)\u001b[0m\n\u001b[0;32m    160\u001b[0m \u001b[38;5;66;03m# Try to get server version, if we can't we fail.\u001b[39;00m\n\u001b[0;32m    161\u001b[0m \u001b[38;5;28;01mif\u001b[39;00m backend_version_override \u001b[38;5;129;01mis\u001b[39;00m \u001b[38;5;28;01mNone\u001b[39;00m:\n\u001b[1;32m--> 162\u001b[0m     server_version \u001b[38;5;241m=\u001b[39m \u001b[38;5;28;43mself\u001b[39;49m\u001b[38;5;241;43m.\u001b[39;49m\u001b[43m_detect_server_version\u001b[49m\u001b[43m(\u001b[49m\u001b[43maddress\u001b[49m\u001b[43m,\u001b[49m\u001b[43m \u001b[49m\u001b[43mverify\u001b[49m\u001b[43m)\u001b[49m\n\u001b[0;32m    163\u001b[0m \u001b[38;5;28;01melse\u001b[39;00m:\n\u001b[0;32m    164\u001b[0m     \u001b[38;5;28;01mif\u001b[39;00m backend_version_override \u001b[38;5;241m==\u001b[39m \u001b[38;5;124m\"\u001b[39m\u001b[38;5;124mlatest\u001b[39m\u001b[38;5;124m\"\u001b[39m:\n",
      "File \u001b[1;32m~\\Anaconda3\\envs\\aithe\\lib\\site-packages\\driverlessai\\_core.py:283\u001b[0m, in \u001b[0;36mClient._detect_server_version\u001b[1;34m(address, verify)\u001b[0m\n\u001b[0;32m    281\u001b[0m         \u001b[38;5;28;01mpass\u001b[39;00m\n\u001b[0;32m    282\u001b[0m \u001b[38;5;66;03m# fail\u001b[39;00m\n\u001b[1;32m--> 283\u001b[0m \u001b[38;5;28;01mraise\u001b[39;00m ServerVersionExtractionFailed(\n\u001b[0;32m    284\u001b[0m     \u001b[38;5;124m\"\u001b[39m\u001b[38;5;124mUnable to extract server version. \u001b[39m\u001b[38;5;124m\"\u001b[39m\n\u001b[0;32m    285\u001b[0m     \u001b[38;5;124m\"\u001b[39m\u001b[38;5;124mPlease make sure the address is correct.\u001b[39m\u001b[38;5;124m\"\u001b[39m\n\u001b[0;32m    286\u001b[0m )\n",
      "\u001b[1;31mServerVersionExtractionFailed\u001b[0m: Unable to extract server version. Please make sure the address is correct."
     ]
    }
   ],
   "source": [
    "import driverlessai\n",
    "import pandas as pd\n",
    "\n",
    "address = 'https://cloud.h2o.ai/v1/latestapp/ai.h2o.wave.dai-quickstart'\n",
    "username = 'gky1208@aithenutrigene.com'\n",
    "password = 'gq3817pq1295!'\n",
    "dai = driverlessai.Client(address = address, username = username, password = password)"
   ]
  }
 ],
 "metadata": {
  "kernelspec": {
   "display_name": "Python 3 (ipykernel)",
   "language": "python",
   "name": "python3"
  },
  "language_info": {
   "codemirror_mode": {
    "name": "ipython",
    "version": 3
   },
   "file_extension": ".py",
   "mimetype": "text/x-python",
   "name": "python",
   "nbconvert_exporter": "python",
   "pygments_lexer": "ipython3",
   "version": "3.8.13"
  }
 },
 "nbformat": 4,
 "nbformat_minor": 5
}
